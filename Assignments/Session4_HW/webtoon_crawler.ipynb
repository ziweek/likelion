{
 "cells": [
  {
   "cell_type": "code",
   "execution_count": 1,
   "id": "53017823-0292-4e7e-9434-a82bf256d443",
   "metadata": {
    "tags": []
   },
   "outputs": [
    {
     "name": "stdout",
     "output_type": "stream",
     "text": [
      "Starting Task...\n",
      "Task Done!\n"
     ]
    }
   ],
   "source": [
    "from bs4 import BeautifulSoup\n",
    "import requests as req\n",
    "import pandas as pd\n",
    "\n",
    "\n",
    "print('Starting Task...')\n",
    "\n",
    "url = 'https://comic.naver.com/webtoon/weekdayList?week=thu'\n",
    "res = req.get(url)\n",
    "soup = BeautifulSoup(res.content, 'lxml')\n",
    "\n",
    "names = soup.select('#content > div.list_area.daily_img > ul > li > dl > dt > a')\n",
    "writers = soup.select('#content > div.list_area.daily_img > ul > li > dl > dd.desc > a')\n",
    "rates = soup.select('#content > div.list_area.daily_img > ul > li > dl > dd:nth-child(3) > div > strong')\n",
    "\n",
    "list_names = [name.text for name in names]\n",
    "list_writers = [writer.text for writer in writers]\n",
    "list_rates = [rate.text for rate in rates]\n",
    "\n",
    "df_cartoon = pd.DataFrame(data={'Names':list_names,\n",
    "                               'Writers':list_writers,\n",
    "                               'rates':list_rates})\n",
    "\n",
    "\n",
    "df_cartoon.to_csv('webtoon_crawler.csv')\n",
    "print('Task Done!')"
   ]
  }
 ],
 "metadata": {
  "kernelspec": {
   "display_name": "Python 3 (ipykernel)",
   "language": "python",
   "name": "python3"
  },
  "language_info": {
   "codemirror_mode": {
    "name": "ipython",
    "version": 3
   },
   "file_extension": ".py",
   "mimetype": "text/x-python",
   "name": "python",
   "nbconvert_exporter": "python",
   "pygments_lexer": "ipython3",
   "version": "3.9.7"
  }
 },
 "nbformat": 4,
 "nbformat_minor": 5
}
